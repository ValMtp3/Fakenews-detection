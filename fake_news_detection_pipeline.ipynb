{
 "cells": [
  {
   "cell_type": "markdown",
   "id": "04a60147",
   "metadata": {},
   "source": [
    "# 📰 Détection de Fake News avec un Modèle Simple\n",
    "Ce notebook propose un pipeline complet pour détecter automatiquement les fake news à partir de textes d'articles."
   ]
  },
  {
   "cell_type": "markdown",
   "id": "3a108e7d",
   "metadata": {},
   "source": [
    "## 📥 1. Importation des bibliothèques"
   ]
  },
  {
   "cell_type": "code",
   "execution_count": null,
   "id": "4c8a0a69",
   "metadata": {},
   "outputs": [],
   "source": [
    "import pandas as pd\n",
    "import numpy as np\n",
    "from sklearn.model_selection import train_test_split\n",
    "from sklearn.feature_extraction.text import TfidfVectorizer\n",
    "from sklearn.naive_bayes import MultinomialNB\n",
    "from sklearn.metrics import classification_report, confusion_matrix\n",
    "import matplotlib.pyplot as plt\n",
    "import seaborn as sns\n"
   ]
  },
  {
   "cell_type": "markdown",
   "id": "099424e5",
   "metadata": {},
   "source": [
    "## 📄 2. Chargement des données"
   ]
  },
  {
   "cell_type": "code",
   "execution_count": null,
   "id": "283790ae",
   "metadata": {},
   "outputs": [],
   "source": [
    "# Téléchargez le dataset manuellement sur Kaggle si besoin\n",
    "# Dataset : https://www.kaggle.com/clmentbisaillon/fake-and-real-news-dataset\n",
    "df_fake = pd.read_csv(\"Fake.csv\")\n",
    "df_real = pd.read_csv(\"True.csv\")\n",
    "\n",
    "df_fake[\"label\"] = 0  # Fake\n",
    "df_real[\"label\"] = 1  # Real\n",
    "\n",
    "df = pd.concat([df_fake, df_real]).sample(frac=1).reset_index(drop=True)\n",
    "df = df[[\"text\", \"label\"]]\n",
    "df.head()\n"
   ]
  },
  {
   "cell_type": "markdown",
   "id": "57e7504a",
   "metadata": {},
   "source": [
    "## 🧹 3. Prétraitement et vectorisation"
   ]
  },
  {
   "cell_type": "code",
   "execution_count": null,
   "id": "cb7114c3",
   "metadata": {},
   "outputs": [],
   "source": [
    "X = df[\"text\"]\n",
    "y = df[\"label\"]\n",
    "\n",
    "vectorizer = TfidfVectorizer(stop_words=\"english\", max_df=0.7)\n",
    "X_vec = vectorizer.fit_transform(X)\n",
    "\n",
    "X_train, X_test, y_train, y_test = train_test_split(X_vec, y, test_size=0.2, random_state=42)\n"
   ]
  },
  {
   "cell_type": "markdown",
   "id": "e97cd7db",
   "metadata": {},
   "source": [
    "## 🤖 4. Entraînement du modèle"
   ]
  },
  {
   "cell_type": "code",
   "execution_count": null,
   "id": "8a85ce2a",
   "metadata": {},
   "outputs": [],
   "source": [
    "model = MultinomialNB()\n",
    "model.fit(X_train, y_train)\n"
   ]
  },
  {
   "cell_type": "markdown",
   "id": "395d9faa",
   "metadata": {},
   "source": [
    "## 📊 5. Évaluation du modèle"
   ]
  },
  {
   "cell_type": "code",
   "execution_count": null,
   "id": "a45f4acc",
   "metadata": {},
   "outputs": [],
   "source": [
    "y_pred = model.predict(X_test)\n",
    "\n",
    "print(classification_report(y_test, y_pred))\n",
    "\n",
    "cm = confusion_matrix(y_test, y_pred)\n",
    "sns.heatmap(cm, annot=True, fmt=\"d\", cmap=\"Blues\", xticklabels=[\"Fake\", \"Real\"], yticklabels=[\"Fake\", \"Real\"])\n",
    "plt.xlabel(\"Prédit\")\n",
    "plt.ylabel(\"Réel\")\n",
    "plt.title(\"Matrice de confusion\")\n",
    "plt.show()\n"
   ]
  },
  {
   "cell_type": "markdown",
   "id": "e6c1cd2c",
   "metadata": {},
   "source": [
    "## 🚀 6. Interface utilisateur avec Gradio (optionnel)"
   ]
  },
  {
   "cell_type": "code",
   "execution_count": null,
   "id": "f96a667c",
   "metadata": {},
   "outputs": [],
   "source": [
    "import gradio as gr\n",
    "\n",
    "def predict_news(text):\n",
    "    vec = vectorizer.transform([text])\n",
    "    pred = model.predict(vec)[0]\n",
    "    return \"🟢 VRAI\" if pred == 1 else \"🔴 FAUX\"\n",
    "\n",
    "interface = gr.Interface(fn=predict_news, inputs=\"textbox\", outputs=\"text\", title=\"Détecteur de Fake News\")\n",
    "interface.launch()\n"
   ]
  }
 ],
 "metadata": {},
 "nbformat": 4,
 "nbformat_minor": 5
}
